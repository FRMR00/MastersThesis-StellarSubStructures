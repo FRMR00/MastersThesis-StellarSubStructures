{
 "cells": [
  {
   "cell_type": "markdown",
   "metadata": {},
   "source": [
    "# AstroQUERY tests"
   ]
  },
  {
   "cell_type": "code",
   "execution_count": null,
   "metadata": {},
   "outputs": [],
   "source": [
    "from astroquery.gaia import Gaia\n",
    "from scipy import stats\n",
    "\n",
    "import numpy as np\n",
    "import pandas as pd\n",
    "import polars as pl\n",
    "import matplotlib.pyplot as plt\n",
    "\n",
    "import os"
   ]
  },
  {
   "cell_type": "code",
   "execution_count": null,
   "metadata": {},
   "outputs": [],
   "source": [
    "gaiadr3_table = Gaia.load_table('gaiadr3.gaia_source')\n",
    "\n",
    "p = 1/2500\n",
    "\n",
    "local_star_query = f\"\"\"\n",
    "                    SELECT * FROM gaiadr3.gaia_source AS gaia\n",
    "                    WHERE \n",
    "                    parallax < {p} AND\n",
    "                    gaia.radial_velocity IS NOT NULL AND\n",
    "                    gaia.b BETWEEN -30 AND 30 AND\n",
    "                    random_index BETWEEN 0 AND 10000000\n",
    "                    \"\"\"\n",
    "\n",
    "#job = Gaia.launch_job_async(local_star_query, dump_to_file=True, output_format='fits')"
   ]
  },
  {
   "cell_type": "markdown",
   "metadata": {},
   "source": [
    "# Functions for vPhi that failed"
   ]
  },
  {
   "cell_type": "code",
   "execution_count": null,
   "metadata": {},
   "outputs": [],
   "source": [
    "# def log_norm_func(x, s, loc, scale):\n",
    "#     adjusted_x = np.abs(-x-min_val)\n",
    "#     return stats.lognorm.pdf(adjusted_x, s, loc, scale)\n",
    "\n",
    "# def gamma_func(x, a, loc, scale):\n",
    "#     return stats.gamma.pdf(x, a, loc, scale)\n",
    "\n",
    "# def beta_func(x, a, b, scale):\n",
    "#     loc=0\n",
    "#     return stats.beta.pdf(x, a, b, loc, scale)\n",
    "\n",
    "# log_popt, log_pcov = curve_fit(log_norm_func, bins, counts)\n",
    "# gamma_popt, gamma_pcov = curve_fit(gamma_func, -bins, counts)\n",
    "# beta_popt, beta_pcov = curve_fit(beta_func, bins, counts)"
   ]
  }
 ],
 "metadata": {
  "language_info": {
   "name": "python"
  }
 },
 "nbformat": 4,
 "nbformat_minor": 2
}
